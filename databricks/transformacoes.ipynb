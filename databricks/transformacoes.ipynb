{
 "cells": [
  {
   "cell_type": "markdown",
   "metadata": {
    "application/vnd.databricks.v1+cell": {
     "cellMetadata": {},
     "inputWidgets": {},
     "nuid": "a5f9f4b1-6d4f-4f8e-8103-8a4e6d622488",
     "showTitle": false,
     "tableResultSettingsMap": {},
     "title": ""
    }
   },
   "source": [
    "# Leitura dos dados de dengue"
   ]
  },
  {
   "cell_type": "code",
   "execution_count": 0,
   "metadata": {
    "application/vnd.databricks.v1+cell": {
     "cellMetadata": {
      "byteLimit": 2048000,
      "rowLimit": 10000
     },
     "inputWidgets": {},
     "nuid": "0aeeb931-37f0-4b81-b1ad-820bc8c7172d",
     "showTitle": false,
     "tableResultSettingsMap": {},
     "title": ""
    }
   },
   "outputs": [
    {
     "output_type": "stream",
     "name": "stdout",
     "output_type": "stream",
     "text": [
      "['TP_NOT', 'ID_AGRAVO', 'DT_NOTIFIC', 'SEM_NOT', 'NU_ANO', 'SG_UF_NOT', 'ID_MUNICIP', 'ID_REGIONA', 'ID_UNIDADE', 'DT_SIN_PRI', 'SEM_PRI', 'ANO_NASC', 'NU_IDADE_N', 'CS_SEXO', 'CS_GESTANT', 'CS_RACA', 'CS_ESCOL_N', 'SG_UF', 'ID_MN_RESI', 'ID_RG_RESI', 'ID_PAIS', 'DT_INVEST', 'ID_OCUPA_N', 'FEBRE', 'MIALGIA', 'CEFALEIA', 'EXANTEMA', 'VOMITO', 'NAUSEA', 'DOR_COSTAS', 'CONJUNTVIT', 'ARTRITE', 'ARTRALGIA', 'PETEQUIA_N', 'LEUCOPENIA', 'LACO', 'DOR_RETRO', 'DIABETES', 'HEMATOLOG', 'HEPATOPAT', 'RENAL', 'HIPERTENSA', 'ACIDO_PEPT', 'AUTO_IMUNE', 'DT_CHIK_S1', 'DT_CHIK_S2', 'DT_PRNT', 'RES_CHIKS1', 'RES_CHIKS2', 'RESUL_PRNT', 'DT_SORO', 'RESUL_SORO', 'DT_NS1', 'RESUL_NS1', 'DT_VIRAL', 'RESUL_VI_N', 'DT_PCR', 'RESUL_PCR_', 'SOROTIPO', 'HISTOPA_N', 'IMUNOH_N', 'HOSPITALIZ', 'DT_INTERNA', 'UF', 'MUNICIPIO', 'TPAUTOCTO', 'COUFINF', 'COPAISINF', 'COMUNINF', 'CLASSI_FIN', 'CRITERIO', 'DOENCA_TRA', 'CLINC_CHIK', 'EVOLUCAO', 'DT_OBITO', 'DT_ENCERRA', 'ALRM_HIPOT', 'ALRM_PLAQ', 'ALRM_VOM', 'ALRM_SANG', 'ALRM_HEMAT', 'ALRM_ABDOM', 'ALRM_LETAR', 'ALRM_HEPAT', 'ALRM_LIQ', 'DT_ALRM', 'GRAV_PULSO', 'GRAV_CONV', 'GRAV_ENCH', 'GRAV_INSUF', 'GRAV_TAQUI', 'GRAV_EXTRE', 'GRAV_HIPOT', 'GRAV_HEMAT', 'GRAV_MELEN', 'GRAV_METRO', 'GRAV_SANG', 'GRAV_AST', 'GRAV_MIOC', 'GRAV_CONSC', 'GRAV_ORGAO', 'DT_GRAV', 'MANI_HEMOR', 'EPISTAXE', 'GENGIVO', 'METRO', 'PETEQUIAS', 'HEMATURA', 'SANGRAM', 'LACO_N', 'PLASMATICO', 'EVIDENCIA', 'PLAQ_MENOR', 'CON_FHD', 'COMPLICA', 'TP_SISTEMA', 'NDUPLIC_N', 'DT_DIGITA', 'CS_FLXRET', 'FLXRECEBI', 'MIGRADO_W']\n"
     ]
    }
   ],
   "source": [
    "from pyspark.sql.functions import when, substring, col\n",
    "\n",
    "df = spark.read.csv(\"/Volumes/workspace/aprendendocomizabela/dados_dengue/bruto/DENGBR25.csv\", header=True)\n",
    "print(df.columns)\n",
    "\n",
    "# Colunas para análise\n",
    "COLUNAS_A_SEREM_EXIBIDAS = ['DT_NOTIFIC', 'ID_AGRAVO', 'CLASSI_FIN', 'ID_MUNICIP', 'ANO_NASC', 'CS_SEXO', 'CS_GESTANT', 'evolucao', 'CS_ESCOL_N', 'DT_SIN_PRI', 'DT_OBITO', 'SG_UF', 'criterio','evolucao', 'SOROTIPO', 'NU_IDADE_N']\n",
    "df = df.select(COLUNAS_A_SEREM_EXIBIDAS)\n",
    "\n",
    "# De para dos valores originais\n",
    "\n",
    "df = df.withColumn(\"C_CLASSI_FIN\", when(df.CLASSI_FIN == 5, \"Descartado\")\n",
    "                                .when(df.CLASSI_FIN == 10, \"Dengue\")\n",
    "                                .when(df.CLASSI_FIN == 11, \"Dengue com sinais de alarme\")\n",
    "                                .when(df.CLASSI_FIN == 12, \"Dengue Grave\")\n",
    "                                .otherwise(\"Inconclusivo\"))\n",
    "                                \n",
    "df = df.withColumn(\"CS_SEXO\", when(df.CS_SEXO == \"M\", \"Masculino\")\n",
    "                                .when(df.CS_SEXO == \"F\", \"Feminino\")\n",
    "                                .otherwise(None))\n",
    "                            \n",
    "df = df.withColumn(\"C_CRITERIO\", when(df.criterio == 1, \"Laboratório\")  \n",
    "                        .when(df.criterio == 2, \"Clínico-epidemiológico\")\n",
    "                        .when(df.criterio == 3, \"Clínico\")\n",
    "                        .when(df.criterio == 9, \"Ignorado\")\n",
    "                        .otherwise(None))\n",
    "                            \n",
    "\n",
    "df = df.withColumn(\"C_ESCOLARIDADE\", when(df.CS_ESCOL_N == 1, \"1_A_4_SERIE_INCOMPLETA\")\n",
    "                        .when(df.CS_ESCOL_N == 0, \"ANALFABETO\")  \n",
    "                        .when(df.CS_ESCOL_N == 2, \"4_SERIE_COMPLETA\")\n",
    "                        .when(df.CS_ESCOL_N == 5, \"EM_INCOMPLETO\")\n",
    "                        .when(df.CS_ESCOL_N == 6, \"EM_COMPLETO\")\n",
    "                        .when(df.CS_ESCOL_N == 7, \"ES_INCOMPLETO\")\n",
    "                        .when(df.CS_ESCOL_N == 8, \"ES_COMPLETO\")\n",
    "                        .when(df.CS_ESCOL_N == 10, \"Ignorado\")\n",
    "                        .otherwise(None))\n",
    "\n",
    "                              \n",
    "df = df.withColumn(\"C_EVOLUCAO\", when(df.evolucao == 1, \"Cura\")\n",
    "                                .when(df.evolucao == 2, \"Óbito por agravo\")\n",
    "                                .when(df.evolucao == 3, \"Óbito por outras causas\")\n",
    "                                .when(df.evolucao == 4, \"Óbito em investigação\")\n",
    "                                .when(df.evolucao == 9, \"Ignorado\")\n",
    "                                .otherwise(None))\n",
    "\n",
    "df = df.withColumn(\"C_SOROTIPO\", when(df.SOROTIPO == 1, \"1-DEN\")\n",
    "                                .when(df.SOROTIPO == 2, \"2-DEN\")\n",
    "                                .when(df.SOROTIPO == 3, \"3-DEN\")\n",
    "                                .when(df.SOROTIPO == 4, \"4-DEN\")\n",
    "                                .otherwise(None))\n",
    "\n",
    "df = df.withColumn(\"NU_IDADE_N\", \n",
    "                   substring(col(\"NU_IDADE_N\"), 3, 4))\n",
    "\n",
    "\n",
    "                   \n",
    "\n",
    "df = df.select(['ID_MUNICIP', 'NU_IDADE_N', 'SG_UF','ID_AGRAVO', 'DT_NOTIFIC', 'C_CLASSI_FIN', 'CS_SEXO', 'C_CRITERIO', 'C_ESCOLARIDADE', 'C_EVOLUCAO', 'C_SOROTIPO'])        \n",
    "\n",
    "df.write.option(\"mergeSchema\", \"true\").saveAsTable(f\"workspace.aprendendocomizabela.tb_dengue\", mode='overwrite')\n",
    "\n",
    "df.toPandas()[:10000].to_csv(\"/Volumes/workspace/aprendendocomizabela/dados_dengue/tratado/df_casos_dengue.csv\", index=False)"
   ]
  },
  {
   "cell_type": "code",
   "execution_count": 0,
   "metadata": {
    "application/vnd.databricks.v1+cell": {
     "cellMetadata": {
      "byteLimit": 2048000,
      "rowLimit": 10000
     },
     "inputWidgets": {},
     "nuid": "97c4b2df-84ca-4582-bc2a-a6e8b4467247",
     "showTitle": false,
     "tableResultSettingsMap": {
      "0": {
       "dataGridStateBlob": "{\"version\":1,\"tableState\":{\"columnPinning\":{\"left\":[\"#row_number#\"],\"right\":[]},\"columnSizing\":{},\"columnVisibility\":{}},\"settings\":{\"columns\":{}},\"syncTimestamp\":1755490285629}",
       "filterBlob": null,
       "queryPlanFiltersBlob": null,
       "tableResultIndex": 0
      }
     },
     "title": ""
    }
   },
   "outputs": [
    {
     "output_type": "display_data",
     "data": {
      "text/html": [
       "<style scoped>\n",
       "  .table-result-container {\n",
       "    max-height: 300px;\n",
       "    overflow: auto;\n",
       "  }\n",
       "  table, th, td {\n",
       "    border: 1px solid black;\n",
       "    border-collapse: collapse;\n",
       "  }\n",
       "  th, td {\n",
       "    padding: 5px;\n",
       "  }\n",
       "  th {\n",
       "    text-align: left;\n",
       "  }\n",
       "</style><div class='table-result-container'><table class='table-result'><thead style='background-color: white'><tr><th>C_EVOLUCAO</th><th>count</th></tr></thead><tbody><tr><td>Óbito por agravo</td><td>1406</td></tr><tr><td>null</td><td>341773</td></tr><tr><td>Ignorado</td><td>31934</td></tr><tr><td>Cura</td><td>1126284</td></tr><tr><td>Óbito por outras causas</td><td>329</td></tr><tr><td>Óbito em investigação</td><td>533</td></tr></tbody></table></div>"
      ]
     },
     "metadata": {
      "application/vnd.databricks.v1+output": {
       "addedWidgets": {},
       "aggData": [],
       "aggError": "",
       "aggOverflow": false,
       "aggSchema": [],
       "aggSeriesLimitReached": false,
       "aggType": "",
       "arguments": {},
       "columnCustomDisplayInfos": {},
       "data": [
        [
         "Óbito por agravo",
         1406
        ],
        [
         null,
         341773
        ],
        [
         "Ignorado",
         31934
        ],
        [
         "Cura",
         1126284
        ],
        [
         "Óbito por outras causas",
         329
        ],
        [
         "Óbito em investigação",
         533
        ]
       ],
       "datasetInfos": [],
       "dbfsResultPath": null,
       "isJsonSchema": true,
       "metadata": {},
       "overflow": false,
       "plotOptions": {
        "customPlotOptions": {},
        "displayType": "table",
        "pivotAggregation": null,
        "pivotColumns": null,
        "xColumns": null,
        "yColumns": null
       },
       "removedWidgets": [],
       "schema": [
        {
         "metadata": "{}",
         "name": "C_EVOLUCAO",
         "type": "\"string\""
        },
        {
         "metadata": "{}",
         "name": "count",
         "type": "\"long\""
        }
       ],
       "type": "table"
      }
     },
     "output_type": "display_data"
    }
   ],
   "source": [
    "df.groupby('C_EVOLUCAO').count().display()\n"
   ]
  },
  {
   "cell_type": "markdown",
   "metadata": {
    "application/vnd.databricks.v1+cell": {
     "cellMetadata": {},
     "inputWidgets": {},
     "nuid": "4f58cce1-3481-4b26-8227-1734a543c125",
     "showTitle": false,
     "tableResultSettingsMap": {},
     "title": ""
    }
   },
   "source": [
    "# Leitura da tabela de IBGE"
   ]
  },
  {
   "cell_type": "code",
   "execution_count": 0,
   "metadata": {
    "application/vnd.databricks.v1+cell": {
     "cellMetadata": {
      "byteLimit": 2048000,
      "rowLimit": 10000
     },
     "inputWidgets": {},
     "nuid": "1394b72b-9880-4d1e-8866-dfe2a4262c33",
     "showTitle": false,
     "tableResultSettingsMap": {},
     "title": ""
    }
   },
   "outputs": [],
   "source": [
    "from pyspark.sql.functions import when, col, substring\n",
    "import pandas as pd \n",
    "\n",
    "df_pandas_municipio = pd.read_csv(\"/Volumes/workspace/aprendendocomizabela/dados_dengue/bruto/Cópia de RELATORIO_DTB_BRASIL_2024_DISTRITOS.csv\", encoding='latin-1', on_bad_lines='skip', skiprows=6, sep=';')\n",
    "df_municipios = spark.createDataFrame(df_pandas_municipio)\n",
    "\n",
    "df_municipios = (\n",
    "    df_municipios.withColumn(\n",
    "                \"ID_MUNICIPIO\",\n",
    "                substring(col('Código Município Completo').cast(\"string\"), 0, 6)\n",
    "            )      \n",
    ")\n",
    "df_municipios = (\n",
    "            df_municipios.withColumnRenamed(\"UF\", \"ID_UF\")\n",
    "            .withColumnRenamed(\"Nome_UF\", \"NM_UF\")\n",
    "            .withColumnRenamed(\"Região Geográfica Intermediária\", \"ID_REGIAO_INTERMEDIARIA\")      \n",
    "            .withColumnRenamed(\"C_ID_MUNICIPIO\", \"ID_MUNICIPIO\")\n",
    "            .withColumnRenamed(\"Nome_Município\", \"NM_MUNICIPIO\")\n",
    "            .select(['ID_UF', 'NM_UF', 'ID_REGIAO_INTERMEDIARIA', 'ID_MUNICIPIO', 'NM_MUNICIPIO']))\n",
    "\n",
    "file_path = \"/Volumes/workspace/aprendendocomizabela/dados_dengue/tratado/\"\n",
    "df_municipios.write.saveAsTable(f\"workspace.aprendendocomizabela.tb_municipios\", mode='overwrite')\n",
    "df_municipios.toPandas()[:10000].to_csv(\"/Volumes/workspace/aprendendocomizabela/dados_dengue/tratado/df_municipios.csv\", index=False)\n"
   ]
  }
 ],
 "metadata": {
  "application/vnd.databricks.v1+notebook": {
   "computePreferences": null,
   "dashboards": [],
   "environmentMetadata": {
    "base_environment": "",
    "environment_version": "2"
   },
   "inputWidgetPreferences": null,
   "language": "python",
   "notebookMetadata": {
    "pythonIndentUnit": 4
   },
   "notebookName": "Extract_Transform",
   "widgets": {}
  },
  "language_info": {
   "name": "python"
  }
 },
 "nbformat": 4,
 "nbformat_minor": 0
}